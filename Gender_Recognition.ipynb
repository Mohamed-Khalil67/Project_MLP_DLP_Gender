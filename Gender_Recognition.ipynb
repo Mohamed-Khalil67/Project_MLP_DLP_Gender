{
  "nbformat": 4,
  "nbformat_minor": 0,
  "metadata": {
    "colab": {
      "name": "Gender_Recognition.ipynb",
      "provenance": [],
      "authorship_tag": "ABX9TyMJ1+nby8rGIxByIc321ZSN",
      "include_colab_link": true
    },
    "kernelspec": {
      "name": "python3",
      "display_name": "Python 3"
    },
    "language_info": {
      "name": "python"
    }
  },
  "cells": [
    {
      "cell_type": "markdown",
      "metadata": {
        "id": "view-in-github",
        "colab_type": "text"
      },
      "source": [
        "<a href=\"https://colab.research.google.com/github/Mohamed-Khalil67/Project_MLP_DLP_Gender/blob/main/Gender_Recognition.ipynb\" target=\"_parent\"><img src=\"https://colab.research.google.com/assets/colab-badge.svg\" alt=\"Open In Colab\"/></a>"
      ]
    },
    {
      "cell_type": "code",
      "execution_count": 1,
      "metadata": {
        "id": "5t10O9CGNgJj"
      },
      "outputs": [],
      "source": [
        "from pathlib import Path\n",
        "\n",
        "import os\n",
        "import numpy as np\n",
        "import pandas as pd\n",
        "import matplotlib.pyplot as plt\n",
        "from collections import Counter\n",
        "\n",
        "from fastai import *\n",
        "from fastai.vision import *"
      ]
    },
    {
      "cell_type": "code",
      "source": [
        ""
      ],
      "metadata": {
        "id": "Fyqez-6pSE9y"
      },
      "execution_count": null,
      "outputs": []
    }
  ]
}