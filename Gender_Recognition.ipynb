{
  "nbformat": 4,
  "nbformat_minor": 0,
  "metadata": {
    "colab": {
      "name": "Gender_Recognition.ipynb",
      "provenance": [],
      "authorship_tag": "ABX9TyPwTvkCWRfZoLP3qkAF0XMX",
      "include_colab_link": true
    },
    "kernelspec": {
      "name": "python3",
      "display_name": "Python 3"
    },
    "language_info": {
      "name": "python"
    }
  },
  "cells": [
    {
      "cell_type": "markdown",
      "metadata": {
        "id": "view-in-github",
        "colab_type": "text"
      },
      "source": [
        "<a href=\"https://colab.research.google.com/github/Mohamed-Khalil67/Project_MLP_DLP_Gender/blob/main/Gender_Recognition.ipynb\" target=\"_parent\"><img src=\"https://colab.research.google.com/assets/colab-badge.svg\" alt=\"Open In Colab\"/></a>"
      ]
    },
    {
      "cell_type": "code",
      "source": [
        "from google.colab import drive\n",
        "drive.mount('/content/drive/')"
      ],
      "metadata": {
        "id": "Fyqez-6pSE9y",
        "outputId": "19c5f10f-bc7d-4f91-d57c-63223d96dbd4",
        "colab": {
          "base_uri": "https://localhost:8080/"
        }
      },
      "execution_count": 7,
      "outputs": [
        {
          "output_type": "stream",
          "name": "stdout",
          "text": [
            "Mounted at /content/drive/\n"
          ]
        }
      ]
    },
    {
      "cell_type": "code",
      "source": [
        "!pip install -Uqq fastbook\n",
        "import fastbook\n",
        "fastbook.setup_book()"
      ],
      "metadata": {
        "id": "7C0zmYYGxEpZ",
        "outputId": "67bd9043-ec52-441f-c76b-513919396c81",
        "colab": {
          "base_uri": "https://localhost:8080/"
        }
      },
      "execution_count": 8,
      "outputs": [
        {
          "output_type": "stream",
          "name": "stdout",
          "text": [
            "\u001b[K     |████████████████████████████████| 720 kB 20.4 MB/s \n",
            "\u001b[K     |████████████████████████████████| 189 kB 60.4 MB/s \n",
            "\u001b[K     |████████████████████████████████| 1.2 MB 37.2 MB/s \n",
            "\u001b[K     |████████████████████████████████| 46 kB 3.6 MB/s \n",
            "\u001b[K     |████████████████████████████████| 56 kB 4.8 MB/s \n",
            "\u001b[K     |████████████████████████████████| 51 kB 293 kB/s \n",
            "\u001b[?25hMounted at /content/gdrive\n"
          ]
        }
      ]
    },
    {
      "cell_type": "code",
      "source": [
        "from fastbook import *\n",
        "from fastai.vision.widgets import *"
      ],
      "metadata": {
        "id": "C00D84fuxGi_"
      },
      "execution_count": 9,
      "outputs": []
    },
    {
      "cell_type": "code",
      "execution_count": 11,
      "metadata": {
        "id": "5t10O9CGNgJj"
      },
      "outputs": [],
      "source": [
        "# Utils\n",
        "import sys\n",
        "import os\n",
        "import shutil\n",
        "import time\n",
        "import pickle\n",
        "import numpy as np\n",
        "\n",
        "# import necessary packages\n",
        "import matplotlib\n",
        "matplotlib.use(\"Agg\")\n",
        "from keras.preprocessing.image import ImageDataGenerator\n",
        "from keras.preprocessing.image import img_to_array\n",
        "\n",
        "# Deep Learning Librairies\n",
        "import tensorflow as tf\n",
        "import keras.preprocessing.image as kpi\n",
        "import keras.layers as kl\n",
        "import keras.optimizers as ko\n",
        "import keras.backend as k\n",
        "import keras.models as km\n",
        "import tensorflow.keras.applications as ka\n",
        "\n",
        "from sklearn.model_selection import train_test_split\n",
        "import matplotlib.pyplot as plt\n",
        "import argparse\n",
        "import random\n",
        "import cv2\n",
        "import glob"
      ]
    }
  ]
}